{
 "cells": [
  {
   "cell_type": "markdown",
   "metadata": {},
   "source": [
    "# Load the modules"
   ]
  },
  {
   "cell_type": "code",
   "execution_count": null,
   "metadata": {},
   "outputs": [],
   "source": [
    "import cudf\n",
    "from collections import OrderedDict\n",
    "import numpy as np\n",
    "import datetime as dt"
   ]
  },
  {
   "cell_type": "code",
   "execution_count": null,
   "metadata": {},
   "outputs": [],
   "source": [
    "print(cudf.__version__)"
   ]
  },
  {
   "cell_type": "markdown",
   "metadata": {},
   "source": [
    "# Read the data"
   ]
  },
  {
   "cell_type": "code",
   "execution_count": null,
   "metadata": {},
   "outputs": [],
   "source": [
    "transactions_partitions_cnt = 10\n",
    "transactions_path = 's3://bsql/data/seattle_parking/parking_MayJun2019.parquet/partition_idx={partition}/'\n",
    "transactions_parq = [transactions_path.format(partition=p) for p in range(transactions_partitions_cnt)]\n",
    "\n",
    "locations_parq = 's3://bsql/data/seattle_parking/parking_locations.parquet/'"
   ]
  },
  {
   "cell_type": "code",
   "execution_count": null,
   "metadata": {},
   "outputs": [],
   "source": [
    "transactions = cudf.read_parquet(transactions_parq, storage_options={'anon': True})\n",
    "locations = cudf.read_parquet(locations_parq, storage_options={'anon': True})"
   ]
  },
  {
   "cell_type": "code",
   "execution_count": null,
   "metadata": {},
   "outputs": [],
   "source": [
    "print('The transactions dataset has {0} records and {1} columns.'.format(*transactions.shape))\n",
    "print('The locations dataset has {0} records and {1} columns.'.format(*locations.shape))"
   ]
  },
  {
   "cell_type": "code",
   "execution_count": null,
   "metadata": {},
   "outputs": [],
   "source": [
    "print(transactions.columns)"
   ]
  },
  {
   "cell_type": "code",
   "execution_count": null,
   "metadata": {},
   "outputs": [],
   "source": [
    "print(locations.columns)"
   ]
  },
  {
   "cell_type": "code",
   "execution_count": null,
   "metadata": {},
   "outputs": [],
   "source": [
    "transactions.head()"
   ]
  },
  {
   "cell_type": "code",
   "execution_count": null,
   "metadata": {},
   "outputs": [],
   "source": [
    "locations.head()"
   ]
  },
  {
   "cell_type": "markdown",
   "metadata": {},
   "source": [
    "# Extract date information"
   ]
  },
  {
   "cell_type": "code",
   "execution_count": null,
   "metadata": {},
   "outputs": [],
   "source": [
    "transactions['year'] = transactions['OccupancyDateTime']._column.year\n",
    "transactions['month'] = transactions['OccupancyDateTime']._column.month\n",
    "transactions['day'] = transactions['OccupancyDateTime']._column.day\n",
    "\n",
    "transactions['hour'] = transactions['OccupancyDateTime']._column.hour\n",
    "transactions['minute'] = transactions['OccupancyDateTime']._column.minute\n",
    "\n",
    "transactions[['OccupancyDateTime','year','month','day','hour', 'minute']].head()"
   ]
  },
  {
   "cell_type": "code",
   "execution_count": null,
   "metadata": {},
   "outputs": [],
   "source": [
    "counts = transactions.groupby(['year', 'month', 'day']).agg({'OccupancyDateTime': 'count'})\n",
    "counts"
   ]
  },
  {
   "cell_type": "code",
   "execution_count": null,
   "metadata": {},
   "outputs": [],
   "source": [
    "print('Average number of transactions per day: {0:.0f}'.format(counts['OccupancyDateTime'].mean()))"
   ]
  },
  {
   "cell_type": "markdown",
   "metadata": {},
   "source": [
    "# All parking locations"
   ]
  },
  {
   "cell_type": "code",
   "execution_count": null,
   "metadata": {},
   "outputs": [],
   "source": [
    "def extractLon(location):\n",
    "    lon = location.str.extract('([0-9\\.\\-]+) ([0-9\\.]+)')[0]\n",
    "    return lon\n",
    "\n",
    "def extractLat(location):\n",
    "    lon = location.str.extract('([0-9\\.\\-]+) ([0-9\\.]+)')[1]\n",
    "    return lon\n",
    "    \n",
    "locations['longitude'] = extractLon(locations['Location']).astype('float64')\n",
    "locations['latitude'] = extractLat(locations['Location']).astype('float64')\n",
    "\n",
    "locations[['Location', 'longitude', 'latitude']].head()"
   ]
  },
  {
   "cell_type": "markdown",
   "metadata": {},
   "source": [
    "# Average occupancy"
   ]
  },
  {
   "cell_type": "code",
   "execution_count": null,
   "metadata": {},
   "outputs": [],
   "source": [
    "def avgOccupancy(PaidOccupancy, ParkingSpaceCount, AvgOccupancy):\n",
    "    for i, (paid, available) in enumerate(zip(PaidOccupancy, ParkingSpaceCount)):\n",
    "        AvgOccupancy[i] = min(1.0, paid / available) # cap it at 100%, sometimes we see more paid occupancy than spaces available\n",
    "        \n",
    "transactions = (\n",
    "    transactions\n",
    "    .merge(locations[['SourceElementKey', 'ParkingSpaceCount']], on='SourceElementKey')\n",
    "    .apply_rows(\n",
    "        avgOccupancy\n",
    "        , incols=['PaidOccupancy', 'ParkingSpaceCount']\n",
    "        , outcols={'AvgOccupancy': np.float64}\n",
    "        , kwargs={}\n",
    "    )\n",
    ")\n",
    "transactions.head()"
   ]
  },
  {
   "cell_type": "code",
   "execution_count": null,
   "metadata": {},
   "outputs": [],
   "source": [
    "search_date_f = dt.datetime.strptime('2019-05-24T10:00:00', '%Y-%m-%dT%H:%M:%S')\n",
    "search_date_t = dt.datetime.strptime('2019-05-24T10:59:59', '%Y-%m-%dT%H:%M:%S')\n",
    "transactions.query('''SourceElementKey == 35889 and OccupancyDateTime >= @search_date_f and OccupancyDateTime <= @search_date_t'''\n",
    ").sort_values(by='OccupancyDateTime').head(5).to_pandas()"
   ]
  },
  {
   "cell_type": "code",
   "execution_count": null,
   "metadata": {},
   "outputs": [],
   "source": [
    "def calcMean(AvgOccupancy, ParkingSpaceCount, MeanOccupancy):\n",
    "    '''\n",
    "        Calculate mean\n",
    "    '''\n",
    "    for i, (avgOccSum, avgCnt) in enumerate(zip(AvgOccupancy, ParkingSpaceCount)):\n",
    "        MeanOccupancy[i] = float(avgOccSum) / avgCnt\n",
    "\n",
    "df_agg_dt = (\n",
    "    transactions\n",
    "    .groupby(['SourceElementKey', 'dow','hour'])\n",
    "    .agg({\n",
    "          'ParkingSpaceCount': 'count'\n",
    "        , 'AvgOccupancy': 'sum'\n",
    "    })\n",
    "    .reset_index()\n",
    ")\n",
    "\n",
    "df_agg_dt = df_agg_dt.apply_rows(\n",
    "    calcMean\n",
    "    , incols=['AvgOccupancy', 'ParkingSpaceCount']\n",
    "    , outcols={'MeanOccupancy':np.float64}\n",
    "    , kwargs={}\n",
    ")\n",
    "\n",
    "df_agg_dt = df_agg_dt.drop(columns=['AvgOccupancy'])\n",
    "df_agg_dt = df_agg_dt.drop(columns=['ParkingSpaceCount'])\n",
    "\n",
    "df_agg_dt.head()"
   ]
  },
  {
   "cell_type": "markdown",
   "metadata": {},
   "source": [
    "# Find the best parking"
   ]
  },
  {
   "cell_type": "code",
   "execution_count": null,
   "metadata": {},
   "outputs": [],
   "source": [
    "locations['LON_Ref'] = -122.349358\n",
    "locations['LAT_Ref'] = 47.620422"
   ]
  },
  {
   "cell_type": "code",
   "execution_count": null,
   "metadata": {},
   "outputs": [],
   "source": [
    "from math import sin, cos, sqrt, asin, pi\n",
    "\n",
    "def calculateDistance(latitude, longitude, LAT_Ref, LON_Ref, Distance):\n",
    "    R = 3958.8 # Earth's radius in miles\n",
    "    \n",
    "    for i, (lt, ln, lt_r, ln_r) in enumerate(zip(latitude, longitude, LAT_Ref, LON_Ref)):\n",
    "        lt_rad = lt / 180.0 * pi\n",
    "        ln_rad = ln / 180.0 * pi\n",
    "        \n",
    "        dlon = (ln_r - ln) / 180.0 * pi\n",
    "        dlat = (lt_r - lt) / 180.0 * pi\n",
    "        a = (sin(dlat/2.0))**2 + cos(lt_rad) * cos(ln_rad) * (sin(dlon/2.0))**2\n",
    "        c = 2 * asin(sqrt(a))\n",
    "        distance = R * c\n",
    "        Distance[i] = distance * 5280 # in feet\n",
    "        \n",
    "locations = locations.apply_rows(\n",
    "    calculateDistance\n",
    "    , incols=['latitude', 'longitude', 'LAT_Ref', 'LON_Ref']\n",
    "    , outcols={'Distance':np.float64}\n",
    "    , kwargs={}\n",
    ")\n",
    "\n",
    "locations.head().to_pandas()"
   ]
  },
  {
   "cell_type": "code",
   "execution_count": null,
   "metadata": {},
   "outputs": [],
   "source": [
    "# get only meters within 1000 ft\n",
    "closest = locations.query('Distance < 1000')\n",
    "\n",
    "closest = closest.merge(df_agg_dt, how='inner', on=['SourceElementKey']).query('dow == 3 and hour == 13')\n",
    "closest = closest.sort_values(by='MeanOccupancy')\n",
    "\n",
    "closest_host = closest[['BlockfaceName', 'SideOfStreet',\n",
    "       'ParkingTimeLimitCategory', 'ParkingSpaceCount', 'PaidParkingArea',\n",
    "       'PaidParkingSubArea', 'ParkingCategory', 'Location', 'Distance', 'dow', 'hour', 'MeanOccupancy', 'longitude', 'latitude']].head()\n",
    "closest_host"
   ]
  },
  {
   "cell_type": "code",
   "execution_count": null,
   "metadata": {},
   "outputs": [],
   "source": []
  }
 ],
 "metadata": {
  "kernelspec": {
   "display_name": "Python 3",
   "language": "python",
   "name": "python3"
  },
  "language_info": {
   "codemirror_mode": {
    "name": "ipython",
    "version": 3
   },
   "file_extension": ".py",
   "mimetype": "text/x-python",
   "name": "python",
   "nbconvert_exporter": "python",
   "pygments_lexer": "ipython3",
   "version": "3.8.5"
  }
 },
 "nbformat": 4,
 "nbformat_minor": 4
}
