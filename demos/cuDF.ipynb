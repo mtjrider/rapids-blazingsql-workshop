{
 "cells": [
  {
   "cell_type": "markdown",
   "metadata": {},
   "source": [
    "# Import modules"
   ]
  },
  {
   "cell_type": "code",
   "execution_count": null,
   "metadata": {},
   "outputs": [],
   "source": [
    "import cudf\n",
    "import nvcategory\n",
    "import nvtext\n",
    "import nvstrings\n",
    "\n",
    "import os\n",
    "from collections import OrderedDict\n",
    "import numpy as np\n",
    "import datetime as dt"
   ]
  },
  {
   "cell_type": "markdown",
   "metadata": {},
   "source": [
    "# Download the data\n",
    "If necessary, download the data from my website and unpack."
   ]
  },
  {
   "cell_type": "code",
   "execution_count": null,
   "metadata": {},
   "outputs": [],
   "source": [
    "data_url = \"http://tomdrabas.com/data/seattle_parking/parking_MayJun2019.tar.gz\"\n",
    "\n",
    "data_dir = \"./data\"\n",
    "archive_path = f\"{data_dir}/parking_MayJun2019.tar.gz\"\n",
    "file_path = f\"{data_dir}/parking_MayJun2019.csv\"\n",
    "\n",
    "directory = os.path.exists(data_dir)\n",
    "archive = os.path.exists(archive_path)\n",
    "file = os.path.exists(file_path)\n",
    "\n",
    "if not directory:\n",
    "    os.mkdir(data_dir)\n",
    "\n",
    "if not archive:\n",
    "    import urllib\n",
    "    urllib.request.urlretrieve(data_url, archive_path)\n",
    "    \n",
    "if not file:\n",
    "    import tarfile\n",
    "    tf = tarfile.open(archive_path)\n",
    "    tf.extractall(path=data_dir)"
   ]
  },
  {
   "cell_type": "markdown",
   "metadata": {},
   "source": [
    "# Read the data"
   ]
  },
  {
   "cell_type": "code",
   "execution_count": null,
   "metadata": {},
   "outputs": [],
   "source": [
    "%%bash -s \"$file_path\"\n",
    "head -n 10 $1"
   ]
  },
  {
   "cell_type": "code",
   "execution_count": null,
   "metadata": {},
   "outputs": [],
   "source": [
    "dtypes = OrderedDict([\n",
    "    ('OccupancyDateTime', 'date'),\n",
    "    ('PaidOccupancy', 'int64'),\n",
    "    ('BlockfaceName', 'str'),\n",
    "    ('SideOfStreet', 'str'),\n",
    "    ('SourceElementKey', 'int64'),\n",
    "    ('ParkingTimeLimitCategory', 'int64'),\n",
    "    ('ParkingSpaceCount', 'int64'),\n",
    "    ('PaidParkingArea', 'str'),\n",
    "    ('PaidParkingSubArea', 'str'),\n",
    "    ('PaidParkingRate', 'int8'),\n",
    "    ('ParkingCategory', 'str'),\n",
    "    ('Location', 'str'),\n",
    "    ('dow', 'int8')\n",
    "])\n",
    "\n",
    "df = cudf.read_csv(\n",
    "    file_path,\n",
    "    skiprows=1,\n",
    "    nrows=1000,\n",
    "    dtype=list(dtypes.values()),\n",
    "    names=list(dtypes.keys())\n",
    ")\n",
    "\n",
    "df = df.fillna(\n",
    "    {\n",
    "        'PaidOccupancy': 0,\n",
    "        'ParkingSpaceCount': 999,\n",
    "        'PaidParkingSubArea': 'UKN'\n",
    "    })"
   ]
  },
  {
   "cell_type": "code",
   "execution_count": null,
   "metadata": {},
   "outputs": [],
   "source": [
    "# size of the file\n",
    "import os\n",
    "print('Filesize: {0:.2f}GB'.format(os.path.getsize(file_path) / (1024 ** 3)))"
   ]
  },
  {
   "cell_type": "code",
   "execution_count": null,
   "metadata": {},
   "outputs": [],
   "source": [
    "df['PaidOccupancy']     = df['PaidOccupancy'].astype('float64')\n",
    "df['ParkingSpaceCount'] = df['ParkingSpaceCount'].astype('float64')"
   ]
  },
  {
   "cell_type": "code",
   "execution_count": null,
   "metadata": {},
   "outputs": [],
   "source": [
    "df.dtypes"
   ]
  },
  {
   "cell_type": "code",
   "execution_count": null,
   "metadata": {},
   "outputs": [],
   "source": [
    "print('The dataset has {0} records and {1} columns.'.format(*df.shape))"
   ]
  },
  {
   "cell_type": "code",
   "execution_count": null,
   "metadata": {},
   "outputs": [],
   "source": [
    "print(df.columns)"
   ]
  },
  {
   "cell_type": "code",
   "execution_count": null,
   "metadata": {},
   "outputs": [],
   "source": [
    "df.head().to_pandas()"
   ]
  },
  {
   "cell_type": "markdown",
   "metadata": {},
   "source": [
    "# Extract date information"
   ]
  },
  {
   "cell_type": "code",
   "execution_count": null,
   "metadata": {},
   "outputs": [],
   "source": [
    "df['year'] = df['OccupancyDateTime']._column.year\n",
    "df['month'] = df['OccupancyDateTime']._column.month\n",
    "df['day'] = df['OccupancyDateTime']._column.day\n",
    "\n",
    "df['hour'] = df['OccupancyDateTime']._column.hour\n",
    "df['minute'] = df['OccupancyDateTime']._column.minute\n",
    "\n",
    "df[['OccupancyDateTime','year','month','day','hour', 'minute']].head().to_pandas()"
   ]
  },
  {
   "cell_type": "code",
   "execution_count": null,
   "metadata": {},
   "outputs": [],
   "source": [
    "counts = df.groupby(['year', 'month', 'day']).agg({'OccupancyDateTime': 'count'})\n",
    "counts"
   ]
  },
  {
   "cell_type": "code",
   "execution_count": null,
   "metadata": {},
   "outputs": [],
   "source": [
    "print('Average number of transactions per day: {0:.0f}'.format(counts['OccupancyDateTime'].mean()))"
   ]
  },
  {
   "cell_type": "markdown",
   "metadata": {},
   "source": [
    "# All parking locations"
   ]
  },
  {
   "cell_type": "code",
   "execution_count": null,
   "metadata": {},
   "outputs": [],
   "source": [
    "locations = df[['SourceElementKey', 'BlockfaceName', 'SideOfStreet',\n",
    "       'ParkingTimeLimitCategory', 'ParkingSpaceCount',\n",
    "       'PaidParkingArea', 'PaidParkingSubArea',\n",
    "       'ParkingCategory', 'Location']].drop_duplicates()\n",
    "\n",
    "locations.head().to_pandas()"
   ]
  },
  {
   "cell_type": "code",
   "execution_count": null,
   "metadata": {},
   "outputs": [],
   "source": [
    "print('Number of parking locations in Seattle: {0}'.format(locations.shape[0]))"
   ]
  },
  {
   "cell_type": "code",
   "execution_count": null,
   "metadata": {},
   "outputs": [],
   "source": [
    "def extractLon(location):\n",
    "    lon = location.str.extract('([0-9\\.\\-]+) ([0-9\\.]+)')[0]\n",
    "    return lon.str.stod()\n",
    "\n",
    "def extractLat(location):\n",
    "    lon = location.str.extract('([0-9\\.\\-]+) ([0-9\\.]+)')[1]\n",
    "    return lon.str.stod()\n",
    "    \n",
    "locations['longitude'] = extractLon(locations['Location'])\n",
    "locations['latitude'] = extractLat(locations['Location'])\n",
    "\n",
    "locations[['Location', 'longitude', 'latitude']].head().to_pandas()"
   ]
  },
  {
   "cell_type": "markdown",
   "metadata": {},
   "source": [
    "# Average occupancy"
   ]
  },
  {
   "cell_type": "code",
   "execution_count": null,
   "metadata": {},
   "outputs": [],
   "source": [
    "def avgOccupancy(PaidOccupancy, ParkingSpaceCount, AvgOccupancy):\n",
    "    for i, (paid, available) in enumerate(zip(PaidOccupancy, ParkingSpaceCount)):\n",
    "        AvgOccupancy[i] = min(1.0, paid / available) # cap it at 100%, sometimes we see more paid occupancy than spaces available\n",
    "        \n",
    "df = (\n",
    "    df[['OccupancyDateTime', 'PaidOccupancy', 'ParkingSpaceCount'\n",
    "              , 'SourceElementKey', 'BlockfaceName', 'SideOfStreet'\n",
    "              , 'ParkingTimeLimitCategory', 'ParkingSpaceCount'\n",
    "              , 'PaidParkingArea', 'PaidParkingSubArea', 'ParkingCategory', 'dow', 'year', 'month'\n",
    "              , 'day', 'hour', 'minute']]\n",
    "    .apply_rows(\n",
    "        avgOccupancy\n",
    "        , incols=['PaidOccupancy', 'ParkingSpaceCount']\n",
    "        , outcols={'AvgOccupancy': np.float64}\n",
    "        , kwargs={}\n",
    "    )\n",
    ")\n",
    "df.head()"
   ]
  },
  {
   "cell_type": "code",
   "execution_count": null,
   "metadata": {},
   "outputs": [],
   "source": [
    "search_date_f = dt.datetime.strptime('2019-05-24T10:00:00', '%Y-%m-%dT%H:%M:%S')\n",
    "search_date_t = dt.datetime.strptime('2019-05-24T10:59:59', '%Y-%m-%dT%H:%M:%S')\n",
    "df.query('''SourceElementKey == 35889 and OccupancyDateTime >= @search_date_f and OccupancyDateTime <= @search_date_t'''\n",
    ").sort_values(by='OccupancyDateTime').head(5).to_pandas()"
   ]
  },
  {
   "cell_type": "code",
   "execution_count": null,
   "metadata": {},
   "outputs": [],
   "source": [
    "def calcMean(AvgOccupancy, ParkingSpaceCount, MeanOccupancy):\n",
    "    '''\n",
    "        Calculate mean\n",
    "    '''\n",
    "    for i, (avgOccSum, avgCnt) in enumerate(zip(AvgOccupancy, ParkingSpaceCount)):\n",
    "        MeanOccupancy[i] = float(avgOccSum) / avgCnt\n",
    "\n",
    "df_agg_dt = (\n",
    "    df\n",
    "    .groupby(['SourceElementKey', 'dow','hour'])\n",
    "    .agg({\n",
    "          'ParkingSpaceCount': 'count'\n",
    "        , 'AvgOccupancy': 'sum'\n",
    "    })\n",
    "    .reset_index()\n",
    ")\n",
    "\n",
    "df_agg_dt = df_agg_dt.apply_rows(\n",
    "    calcMean\n",
    "    , incols=['AvgOccupancy', 'ParkingSpaceCount']\n",
    "    , outcols={'MeanOccupancy':np.float64}\n",
    "    , kwargs={}\n",
    ")\n",
    "\n",
    "df_agg_dt.drop_column('AvgOccupancy')\n",
    "df_agg_dt.drop_column('ParkingSpaceCount')\n",
    "\n",
    "df_agg_dt.head().to_pandas()"
   ]
  },
  {
   "cell_type": "markdown",
   "metadata": {},
   "source": [
    "# Find the best parking"
   ]
  },
  {
   "cell_type": "code",
   "execution_count": null,
   "metadata": {},
   "outputs": [],
   "source": [
    "from geopy.geocoders import Nominatim\n",
    "\n",
    "geolocator = Nominatim(user_agent=\"todrabas_test\")\n",
    "location = geolocator.geocode(\"2300 7th Ave Seattle\")\n",
    "\n",
    "locations['LON_Ref'] = location.longitude\n",
    "locations['LAT_Ref'] = location.latitude"
   ]
  },
  {
   "cell_type": "code",
   "execution_count": null,
   "metadata": {},
   "outputs": [],
   "source": [
    "from math import sin, cos, sqrt, atan2, pi\n",
    "\n",
    "def calculateDistance(latitude, longitude, LAT_Ref, LON_Ref, Distance):\n",
    "    R = 3958.8 # Earth's radius in miles\n",
    "    \n",
    "    for i, (lt, ln, lt_r, ln_r) in enumerate(zip(latitude, longitude, LAT_Ref, LON_Ref)):\n",
    "        lt_rad = lt / 180.0 * pi\n",
    "        ln_rad = ln / 180.0 * pi\n",
    "        \n",
    "        dlon = (ln_r - ln) / 180.0 * pi\n",
    "        dlat = (lt_r - lt) / 180.0 * pi\n",
    "        a = (sin(dlat/2.0))**2 + cos(lt_rad) * cos(lt_rad) * (sin(dlon/2.0))**2\n",
    "        c = 2 * atan2(sqrt(a), sqrt(1-a))\n",
    "        distance = R * c\n",
    "        Distance[i] = distance * 5280 # in feet\n",
    "        \n",
    "locations = locations.apply_rows(\n",
    "    calculateDistance\n",
    "    , incols=['latitude', 'longitude', 'LAT_Ref', 'LON_Ref']\n",
    "    , outcols={'Distance':np.float64}\n",
    "    , kwargs={}\n",
    ")\n",
    "\n",
    "locations.head().to_pandas()"
   ]
  },
  {
   "cell_type": "code",
   "execution_count": null,
   "metadata": {},
   "outputs": [],
   "source": [
    "# get only meters within 1000 ft\n",
    "closest = locations.query('Distance < 1000')\n",
    "\n",
    "closest = closest.merge(df_agg_dt, how='inner', on=['SourceElementKey']).query('dow == 3 and hour == 13')\n",
    "closest = closest.sort_values(by='MeanOccupancy')\n",
    "\n",
    "closest_host = closest[['BlockfaceName', 'SideOfStreet',\n",
    "       'ParkingTimeLimitCategory', 'ParkingSpaceCount', 'PaidParkingArea',\n",
    "       'PaidParkingSubArea', 'ParkingCategory', 'Location', 'Distance', 'dow', 'hour', 'MeanOccupancy', 'longitude', 'latitude']].head().to_pandas()\n",
    "closest_host"
   ]
  },
  {
   "cell_type": "markdown",
   "metadata": {},
   "source": [
    "# Plot the parking spots on the map\n",
    "\n",
    "We're using gmaps python package that can be found here: https://github.com/pbugnion/gmaps. Follow the instructions contained within the README.md about how to install the package so the map shows properly in jupyter lab."
   ]
  },
  {
   "cell_type": "code",
   "execution_count": null,
   "metadata": {},
   "outputs": [],
   "source": [
    "closest_host[['BlockfaceName', 'Distance', 'MeanOccupancy']].to_dict('records')\n",
    "info_box_template = \"\"\"\n",
    "<dl>\n",
    "<dt>Name</dt><dd>{BlockfaceName}</dd>\n",
    "<dt>Distance</dt><dd>{Distance:.0f}</dd>\n",
    "<dt>Occupancy (AVG)</dt><dd>{MeanOccupancy:.3f}</dd>\n",
    "</dl>\n",
    "\"\"\"\n",
    "\n",
    "parking_info = [info_box_template.format(**parking) for parking in closest_host[['BlockfaceName', 'Distance', 'MeanOccupancy']].to_dict('records')]"
   ]
  },
  {
   "cell_type": "code",
   "execution_count": null,
   "metadata": {},
   "outputs": [],
   "source": [
    "closest_host.to_dict('records')[0]['latitude']"
   ]
  },
  {
   "cell_type": "code",
   "execution_count": null,
   "metadata": {},
   "outputs": [],
   "source": [
    "import gmaps\n",
    "import gmaps.datasets\n",
    "gmaps.configure(api_key=\"--->>> YOUR KEY <<<---\") # Your Google API key, go to https://console.developers.google.com\n",
    "\n",
    "parking_layer = gmaps.symbol_layer(\n",
    "    closest_host[['latitude', 'longitude']], fill_color=\"green\", stroke_color=\"green\", scale=3, info_box_content=parking_info\n",
    ")\n",
    "\n",
    "destinations_layer = gmaps.symbol_layer(\n",
    "    [[location.latitude, location.longitude]]\n",
    "    , info_box_content=['DESTINATION']\n",
    "    , scale=5\n",
    "    , fill_color=\"red\"\n",
    "    , stroke_color=\"red\"\n",
    ")\n",
    "\n",
    "parkings = closest_host.to_dict('records')\n",
    "\n",
    "lines_layer = gmaps.drawing_layer(features=[\n",
    "    gmaps.Line(\n",
    "        start= (parking['latitude'], parking['longitude'])\n",
    "        , end = (location.latitude, location.longitude)\n",
    "        , stroke_weight=2\n",
    "        , stroke_color=\"red\"\n",
    "    )\n",
    "    for parking in parkings]\n",
    ")\n",
    "\n",
    "fig = gmaps.figure(layout={'height': '500px'})\n",
    "fig.add_layer(parking_layer)\n",
    "fig.add_layer(destinations_layer)\n",
    "fig.add_layer(lines_layer)\n",
    "fig"
   ]
  }
 ],
 "metadata": {
  "kernelspec": {
   "display_name": "Python 3",
   "language": "python",
   "name": "python3"
  },
  "language_info": {
   "codemirror_mode": {
    "name": "ipython",
    "version": 3
   },
   "file_extension": ".py",
   "mimetype": "text/x-python",
   "name": "python",
   "nbconvert_exporter": "python",
   "pygments_lexer": "ipython3",
   "version": "3.7.9-final"
  }
 },
 "nbformat": 4,
 "nbformat_minor": 4
}