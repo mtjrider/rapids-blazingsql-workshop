{
 "cells": [
  {
   "cell_type": "markdown",
   "metadata": {},
   "source": [
    "# Parking in Seattle\n",
    "\n",
    "Driving in Seattle is quickly becoming very similar to driving in cities like San Francisco, Silicon Valley or Los Angeles: more and more companies choose to settle or open their offices in Seattle so they can tap into the tech community that Seattle has to offer. With that, parking in Seattle is getting harder by day.\n",
    "\n",
    "Paid Parking Occupancy dataset provided by the City of Seattle Department of Transportation provides a view into around 300 million parking transactions annually from around 12 thousands parking spots on roughly 1,500 block faces. The dataset does not include any transaction for Sundays as there is no paid parking. Most of the parking spots have a 2-hour limit."
   ]
  },
  {
   "cell_type": "markdown",
   "metadata": {},
   "source": [
    "## Load the modules\n",
    "\n",
    "First, we'll load the necessary modules and instantiate the `BlazingContext()`."
   ]
  },
  {
   "cell_type": "code",
   "execution_count": 1,
   "metadata": {},
   "outputs": [
    {
     "name": "stdout",
     "output_type": "stream",
     "text": [
      "BlazingContext ready\n"
     ]
    }
   ],
   "source": [
    "from blazingsql import BlazingContext\n",
    "\n",
    "import cudf\n",
    "import pandas as pd\n",
    "import json\n",
    "\n",
    "pd.options.display.max_rows = 100\n",
    "\n",
    "bc = BlazingContext()"
   ]
  },
  {
   "cell_type": "markdown",
   "metadata": {},
   "source": [
    "# Register S3 bucket\n",
    "Next, since we are reading from S3 we need to register the bucket we hold the data in."
   ]
  },
  {
   "cell_type": "code",
   "execution_count": 2,
   "metadata": {},
   "outputs": [],
   "source": [
    "_ = bc.s3(\n",
    "    'bsql'\n",
    "    , bucket_name = 'bsql'\n",
    ")"
   ]
  },
  {
   "cell_type": "markdown",
   "metadata": {},
   "source": [
    "# Create the tables\n",
    "\n",
    "Now that we registered the S3 bucket we can create our tables. First, specify the locations."
   ]
  },
  {
   "cell_type": "code",
   "execution_count": 3,
   "metadata": {},
   "outputs": [],
   "source": [
    "transactions_partitions_cnt = 10\n",
    "transactions_path = 's3://bsql/data/seattle_parking/parking_MayJun2019.parquet/partition_idx={partition}/'\n",
    "transactions_parq = [transactions_path.format(partition=p) for p in range(transactions_partitions_cnt)]\n",
    "\n",
    "locations_parq = 's3://bsql/data/seattle_parking/parking_locations.parquet/'"
   ]
  },
  {
   "cell_type": "markdown",
   "metadata": {},
   "source": [
    "The table below helps mapping the day-of-the-week to its string representation."
   ]
  },
  {
   "cell_type": "code",
   "execution_count": 4,
   "metadata": {},
   "outputs": [],
   "source": [
    "dow = cudf.DataFrame([\n",
    "          (0, 'Monday')\n",
    "        , (1, 'Tuesday')\n",
    "        , (2, 'Wednesday')\n",
    "        , (3, 'Thursday')\n",
    "        , (4, 'Friday')\n",
    "        , (5, 'Saturday')\n",
    "        , (6, 'Sunday')\n",
    "    ], columns=['dow', 'dow_str'])"
   ]
  },
  {
   "cell_type": "markdown",
   "metadata": {},
   "source": [
    "Finally, create the table."
   ]
  },
  {
   "cell_type": "code",
   "execution_count": 5,
   "metadata": {},
   "outputs": [
    {
     "name": "stdout",
     "output_type": "stream",
     "text": [
      "CPU times: user 250 ms, sys: 41.7 ms, total: 291 ms\n",
      "Wall time: 2.13 s\n"
     ]
    }
   ],
   "source": [
    "%%time\n",
    "bc.create_table('parking_transactions', transactions_parq)\n",
    "bc.create_table('parking_locations', locations_parq)\n",
    "bc.create_table('dow', dow)"
   ]
  },
  {
   "cell_type": "markdown",
   "metadata": {},
   "source": [
    "# Basic information\n",
    "Let's build some basic understanding of the data we're dealing with."
   ]
  },
  {
   "cell_type": "markdown",
   "metadata": {},
   "source": [
    "## Parking transactions\n",
    "Let's look up the first 10 parking transactions."
   ]
  },
  {
   "cell_type": "code",
   "execution_count": 6,
   "metadata": {},
   "outputs": [
    {
     "name": "stdout",
     "output_type": "stream",
     "text": [
      "CPU times: user 1.56 s, sys: 59.2 ms, total: 1.62 s\n",
      "Wall time: 1.3 s\n"
     ]
    }
   ],
   "source": [
    "%%time\n",
    "transactions_sample = bc.sql('SELECT * FROM parking_transactions LIMIT 10')"
   ]
  },
  {
   "cell_type": "markdown",
   "metadata": {},
   "source": [
    "The top 10 transactions are now in the `transactions_sample` cudf DataFrame. \n",
    "\n",
    "Let's look at the features of this dataset."
   ]
  },
  {
   "cell_type": "code",
   "execution_count": 10,
   "metadata": {},
   "outputs": [
    {
     "name": "stdout",
     "output_type": "stream",
     "text": [
      "The dataset has 12,168,760 records and 4 columns.\n",
      "CPU times: user 642 ms, sys: 99.7 ms, total: 742 ms\n",
      "Wall time: 665 ms\n"
     ]
    }
   ],
   "source": [
    "%%time\n",
    "print(f'The dataset has {bc.sql(\"SELECT COUNT(*) FROM parking_transactions\").to_pandas().values.tolist()[0][0]:,} records and {transactions_sample.shape[1]} columns.')"
   ]
  },
  {
   "cell_type": "code",
   "execution_count": 11,
   "metadata": {},
   "outputs": [
    {
     "name": "stdout",
     "output_type": "stream",
     "text": [
      "List of columns: OccupancyDateTime, PaidOccupancy, SourceElementKey, dow.\n"
     ]
    }
   ],
   "source": [
    "print(f'List of columns: {\", \".join(list(transactions_sample.columns))}.')"
   ]
  },
  {
   "cell_type": "code",
   "execution_count": 12,
   "metadata": {},
   "outputs": [
    {
     "data": {
      "text/plain": [
       "OccupancyDateTime    datetime64[ms]\n",
       "PaidOccupancy                 int64\n",
       "SourceElementKey              int64\n",
       "dow                            int8\n",
       "dtype: object"
      ]
     },
     "execution_count": 12,
     "metadata": {},
     "output_type": "execute_result"
    }
   ],
   "source": [
    "transactions_sample.dtypes"
   ]
  },
  {
   "cell_type": "markdown",
   "metadata": {},
   "source": [
    "Most of the columns are self-explanatory: \n",
    "\n",
    "1. `OccupancyDateTime` describes when the transaction took place.\n",
    "2. `PaidOccupancy` indicated the total number of spots occupied at that point in time.\n",
    "3. `SourceElementKey` is the ID of the parking spot.\n",
    "4. `dow` is the integer representation of the day-of-week (0 = Monday)."
   ]
  },
  {
   "cell_type": "markdown",
   "metadata": {},
   "source": [
    "Here's the sample rows."
   ]
  },
  {
   "cell_type": "code",
   "execution_count": 14,
   "metadata": {},
   "outputs": [
    {
     "data": {
      "text/html": [
       "<div>\n",
       "<style scoped>\n",
       "    .dataframe tbody tr th:only-of-type {\n",
       "        vertical-align: middle;\n",
       "    }\n",
       "\n",
       "    .dataframe tbody tr th {\n",
       "        vertical-align: top;\n",
       "    }\n",
       "\n",
       "    .dataframe thead th {\n",
       "        text-align: right;\n",
       "    }\n",
       "</style>\n",
       "<table border=\"1\" class=\"dataframe\">\n",
       "  <thead>\n",
       "    <tr style=\"text-align: right;\">\n",
       "      <th></th>\n",
       "      <th>OccupancyDateTime</th>\n",
       "      <th>PaidOccupancy</th>\n",
       "      <th>SourceElementKey</th>\n",
       "      <th>dow</th>\n",
       "    </tr>\n",
       "  </thead>\n",
       "  <tbody>\n",
       "    <tr>\n",
       "      <th>0</th>\n",
       "      <td>2019-05-24 08:35:00</td>\n",
       "      <td>1</td>\n",
       "      <td>35438</td>\n",
       "      <td>4</td>\n",
       "    </tr>\n",
       "    <tr>\n",
       "      <th>1</th>\n",
       "      <td>2019-05-24 13:41:00</td>\n",
       "      <td>3</td>\n",
       "      <td>58402</td>\n",
       "      <td>4</td>\n",
       "    </tr>\n",
       "    <tr>\n",
       "      <th>2</th>\n",
       "      <td>2019-05-24 09:29:00</td>\n",
       "      <td>3</td>\n",
       "      <td>59954</td>\n",
       "      <td>4</td>\n",
       "    </tr>\n",
       "    <tr>\n",
       "      <th>3</th>\n",
       "      <td>2019-05-24 08:32:00</td>\n",
       "      <td>1</td>\n",
       "      <td>76961</td>\n",
       "      <td>4</td>\n",
       "    </tr>\n",
       "    <tr>\n",
       "      <th>4</th>\n",
       "      <td>2019-05-24 15:17:00</td>\n",
       "      <td>1</td>\n",
       "      <td>32466</td>\n",
       "      <td>4</td>\n",
       "    </tr>\n",
       "    <tr>\n",
       "      <th>5</th>\n",
       "      <td>2019-05-24 12:28:00</td>\n",
       "      <td>4</td>\n",
       "      <td>68921</td>\n",
       "      <td>4</td>\n",
       "    </tr>\n",
       "    <tr>\n",
       "      <th>6</th>\n",
       "      <td>2019-06-10 13:40:00</td>\n",
       "      <td>4</td>\n",
       "      <td>75169</td>\n",
       "      <td>0</td>\n",
       "    </tr>\n",
       "    <tr>\n",
       "      <th>7</th>\n",
       "      <td>2019-06-10 09:33:00</td>\n",
       "      <td>4</td>\n",
       "      <td>36118</td>\n",
       "      <td>0</td>\n",
       "    </tr>\n",
       "    <tr>\n",
       "      <th>8</th>\n",
       "      <td>2019-06-10 19:13:00</td>\n",
       "      <td>4</td>\n",
       "      <td>7265</td>\n",
       "      <td>0</td>\n",
       "    </tr>\n",
       "    <tr>\n",
       "      <th>9</th>\n",
       "      <td>2019-06-10 08:28:00</td>\n",
       "      <td>2</td>\n",
       "      <td>79789</td>\n",
       "      <td>0</td>\n",
       "    </tr>\n",
       "  </tbody>\n",
       "</table>\n",
       "</div>"
      ],
      "text/plain": [
       "    OccupancyDateTime  PaidOccupancy  SourceElementKey  dow\n",
       "0 2019-05-24 08:35:00              1             35438    4\n",
       "1 2019-05-24 13:41:00              3             58402    4\n",
       "2 2019-05-24 09:29:00              3             59954    4\n",
       "3 2019-05-24 08:32:00              1             76961    4\n",
       "4 2019-05-24 15:17:00              1             32466    4\n",
       "5 2019-05-24 12:28:00              4             68921    4\n",
       "6 2019-06-10 13:40:00              4             75169    0\n",
       "7 2019-06-10 09:33:00              4             36118    0\n",
       "8 2019-06-10 19:13:00              4              7265    0\n",
       "9 2019-06-10 08:28:00              2             79789    0"
      ]
     },
     "execution_count": 14,
     "metadata": {},
     "output_type": "execute_result"
    }
   ],
   "source": [
    "transactions_sample"
   ]
  },
  {
   "cell_type": "markdown",
   "metadata": {},
   "source": [
    "## Parking locations\n",
    "The next table holds the list of all the transactions with their metadata."
   ]
  },
  {
   "cell_type": "code",
   "execution_count": 15,
   "metadata": {},
   "outputs": [
    {
     "name": "stdout",
     "output_type": "stream",
     "text": [
      "CPU times: user 52.4 ms, sys: 7.38 ms, total: 59.8 ms\n",
      "Wall time: 139 ms\n"
     ]
    }
   ],
   "source": [
    "%%time\n",
    "locations_sample = bc.sql('SELECT * FROM parking_locations LIMIT 10')"
   ]
  },
  {
   "cell_type": "markdown",
   "metadata": {},
   "source": [
    "Let's look at the metadata here."
   ]
  },
  {
   "cell_type": "code",
   "execution_count": 17,
   "metadata": {},
   "outputs": [
    {
     "name": "stdout",
     "output_type": "stream",
     "text": [
      "The dataset has 1,528 records and 9 columns.\n"
     ]
    }
   ],
   "source": [
    "print(f'The dataset has {bc.sql(\"SELECT COUNT(*) FROM parking_locations\").to_pandas().values.tolist()[0][0]:,} records and {locations_sample.shape[1]} columns.')"
   ]
  },
  {
   "cell_type": "code",
   "execution_count": 18,
   "metadata": {},
   "outputs": [
    {
     "name": "stdout",
     "output_type": "stream",
     "text": [
      "List of columns: SourceElementKey, BlockfaceName, SideOfStreet, ParkingTimeLimitCategory, ParkingSpaceCount, PaidParkingArea, PaidParkingSubArea, ParkingCategory, Location.\n"
     ]
    }
   ],
   "source": [
    "print(f'List of columns: {\", \".join(list(locations_sample.columns))}.')"
   ]
  },
  {
   "cell_type": "code",
   "execution_count": 19,
   "metadata": {},
   "outputs": [
    {
     "data": {
      "text/plain": [
       "SourceElementKey             int64\n",
       "BlockfaceName               object\n",
       "SideOfStreet                object\n",
       "ParkingTimeLimitCategory     int64\n",
       "ParkingSpaceCount            int64\n",
       "PaidParkingArea             object\n",
       "PaidParkingSubArea          object\n",
       "ParkingCategory             object\n",
       "Location                    object\n",
       "dtype: object"
      ]
     },
     "execution_count": 19,
     "metadata": {},
     "output_type": "execute_result"
    }
   ],
   "source": [
    "locations_sample.dtypes"
   ]
  },
  {
   "cell_type": "markdown",
   "metadata": {},
   "source": [
    "We have 9 columns:\n",
    "\n",
    "1. `SourceElementKey` is the ID of the parking spot. We will use it to join with the `parking_transactions` table\n",
    "2. `BlockfaceName` describes the location of the parking spot in terms of blocks (see below for an example)\n",
    "3. `SideOfStreet` indicates whether the parking is on the e.g. north or south side for a street that runs from east to west\n",
    "4. `ParkingTimeLimitCategory` shows the maximum allowed parking time (in minutes) at the location\n",
    "5. `ParkingSpaceCount` gives the total number of parking spots available at the location\n",
    "6. `PaidParkingArea` describes the broader parking area name\n",
    "7. `PaidParkingSubArea` can be better understood as a city-quarter (e.g. Belltown, or Pioneer Square)\n",
    "8. `ParkingCategory` indicates either a Carpool Parking, Paid Parking or RPZ (Restricted Parking Zone)\n",
    "9. `Location` a point location in a WKT (Well Known Text) format (see an example below)."
   ]
  },
  {
   "cell_type": "code",
   "execution_count": 20,
   "metadata": {},
   "outputs": [
    {
     "data": {
      "text/html": [
       "<div>\n",
       "<style scoped>\n",
       "    .dataframe tbody tr th:only-of-type {\n",
       "        vertical-align: middle;\n",
       "    }\n",
       "\n",
       "    .dataframe tbody tr th {\n",
       "        vertical-align: top;\n",
       "    }\n",
       "\n",
       "    .dataframe thead th {\n",
       "        text-align: right;\n",
       "    }\n",
       "</style>\n",
       "<table border=\"1\" class=\"dataframe\">\n",
       "  <thead>\n",
       "    <tr style=\"text-align: right;\">\n",
       "      <th></th>\n",
       "      <th>SourceElementKey</th>\n",
       "      <th>BlockfaceName</th>\n",
       "      <th>SideOfStreet</th>\n",
       "      <th>ParkingTimeLimitCategory</th>\n",
       "      <th>ParkingSpaceCount</th>\n",
       "      <th>PaidParkingArea</th>\n",
       "      <th>PaidParkingSubArea</th>\n",
       "      <th>ParkingCategory</th>\n",
       "      <th>Location</th>\n",
       "    </tr>\n",
       "  </thead>\n",
       "  <tbody>\n",
       "    <tr>\n",
       "      <th>0</th>\n",
       "      <td>1009</td>\n",
       "      <td>1ST AVE BETWEEN MADISON ST AND SPRING ST</td>\n",
       "      <td>SW</td>\n",
       "      <td>30</td>\n",
       "      <td>5</td>\n",
       "      <td>Commercial Core</td>\n",
       "      <td>Waterfront</td>\n",
       "      <td>Paid Parking</td>\n",
       "      <td>POINT (-122.3366575 47.60501765)</td>\n",
       "    </tr>\n",
       "    <tr>\n",
       "      <th>1</th>\n",
       "      <td>1018</td>\n",
       "      <td>1ST AVE BETWEEN STEWART ST AND VIRGINIA ST</td>\n",
       "      <td>NE</td>\n",
       "      <td>120</td>\n",
       "      <td>12</td>\n",
       "      <td>Belltown</td>\n",
       "      <td>South</td>\n",
       "      <td>Paid Parking</td>\n",
       "      <td>POINT (-122.34188878 47.61073498)</td>\n",
       "    </tr>\n",
       "    <tr>\n",
       "      <th>2</th>\n",
       "      <td>1045</td>\n",
       "      <td>1ST AVE N BETWEEN REPUBLICAN ST AND MERCER ST</td>\n",
       "      <td>W</td>\n",
       "      <td>120</td>\n",
       "      <td>11</td>\n",
       "      <td>Uptown</td>\n",
       "      <td>Core</td>\n",
       "      <td>Paid Parking</td>\n",
       "      <td>POINT (-122.35549857 47.62391565)</td>\n",
       "    </tr>\n",
       "    <tr>\n",
       "      <th>3</th>\n",
       "      <td>1213</td>\n",
       "      <td>1ST AVE S BETWEEN YESLER WAY AND S WASHINGTON ST</td>\n",
       "      <td>W</td>\n",
       "      <td>120</td>\n",
       "      <td>11</td>\n",
       "      <td>Pioneer Square</td>\n",
       "      <td>Core</td>\n",
       "      <td>Paid Parking</td>\n",
       "      <td>POINT (-122.33428548 47.60129336)</td>\n",
       "    </tr>\n",
       "    <tr>\n",
       "      <th>4</th>\n",
       "      <td>1214</td>\n",
       "      <td>1ST AVE S BETWEEN YESLER WAY AND S WASHINGTON ST</td>\n",
       "      <td>E</td>\n",
       "      <td>120</td>\n",
       "      <td>11</td>\n",
       "      <td>Pioneer Square</td>\n",
       "      <td>Core</td>\n",
       "      <td>Paid Parking</td>\n",
       "      <td>POINT (-122.3340747 47.60129576)</td>\n",
       "    </tr>\n",
       "    <tr>\n",
       "      <th>5</th>\n",
       "      <td>1218</td>\n",
       "      <td>1ST AVE S BETWEEN S WASHINGTON ST AND S MAIN ST</td>\n",
       "      <td>E</td>\n",
       "      <td>120</td>\n",
       "      <td>9</td>\n",
       "      <td>Pioneer Square</td>\n",
       "      <td>Core</td>\n",
       "      <td>Paid Parking</td>\n",
       "      <td>POINT (-122.33407785 47.60046351)</td>\n",
       "    </tr>\n",
       "    <tr>\n",
       "      <th>6</th>\n",
       "      <td>1222</td>\n",
       "      <td>1ST AVE S BETWEEN RAILROAD N WAY S AND RAILROA...</td>\n",
       "      <td>E</td>\n",
       "      <td>120</td>\n",
       "      <td>6</td>\n",
       "      <td>Pioneer Square</td>\n",
       "      <td>Edge</td>\n",
       "      <td>Paid Parking</td>\n",
       "      <td>POINT (-122.33405747 47.59609416)</td>\n",
       "    </tr>\n",
       "    <tr>\n",
       "      <th>7</th>\n",
       "      <td>1233</td>\n",
       "      <td>10TH AVE BETWEEN E PIKE ST AND E PINE ST</td>\n",
       "      <td>W</td>\n",
       "      <td>120</td>\n",
       "      <td>9</td>\n",
       "      <td>Pike-Pine</td>\n",
       "      <td>UKN</td>\n",
       "      <td>Paid Parking</td>\n",
       "      <td>POINT (-122.31955777 47.61468219)</td>\n",
       "    </tr>\n",
       "    <tr>\n",
       "      <th>8</th>\n",
       "      <td>1234</td>\n",
       "      <td>10TH AVE BETWEEN E PIKE ST AND E PINE ST</td>\n",
       "      <td>E</td>\n",
       "      <td>120</td>\n",
       "      <td>27</td>\n",
       "      <td>Pike-Pine</td>\n",
       "      <td>UKN</td>\n",
       "      <td>Paid Parking</td>\n",
       "      <td>POINT (-122.31934691 47.614681)</td>\n",
       "    </tr>\n",
       "    <tr>\n",
       "      <th>9</th>\n",
       "      <td>1281</td>\n",
       "      <td>1ST AVE W BETWEEN W MERCER ST AND W ROY ST</td>\n",
       "      <td>W</td>\n",
       "      <td>240</td>\n",
       "      <td>5</td>\n",
       "      <td>Uptown</td>\n",
       "      <td>Edge</td>\n",
       "      <td>Paid Parking</td>\n",
       "      <td>POINT (-122.35809341 47.62515306)</td>\n",
       "    </tr>\n",
       "  </tbody>\n",
       "</table>\n",
       "</div>"
      ],
      "text/plain": [
       "   SourceElementKey                                      BlockfaceName  \\\n",
       "0              1009           1ST AVE BETWEEN MADISON ST AND SPRING ST   \n",
       "1              1018         1ST AVE BETWEEN STEWART ST AND VIRGINIA ST   \n",
       "2              1045      1ST AVE N BETWEEN REPUBLICAN ST AND MERCER ST   \n",
       "3              1213   1ST AVE S BETWEEN YESLER WAY AND S WASHINGTON ST   \n",
       "4              1214   1ST AVE S BETWEEN YESLER WAY AND S WASHINGTON ST   \n",
       "5              1218    1ST AVE S BETWEEN S WASHINGTON ST AND S MAIN ST   \n",
       "6              1222  1ST AVE S BETWEEN RAILROAD N WAY S AND RAILROA...   \n",
       "7              1233           10TH AVE BETWEEN E PIKE ST AND E PINE ST   \n",
       "8              1234           10TH AVE BETWEEN E PIKE ST AND E PINE ST   \n",
       "9              1281         1ST AVE W BETWEEN W MERCER ST AND W ROY ST   \n",
       "\n",
       "  SideOfStreet  ParkingTimeLimitCategory  ParkingSpaceCount  PaidParkingArea  \\\n",
       "0           SW                        30                  5  Commercial Core   \n",
       "1           NE                       120                 12         Belltown   \n",
       "2            W                       120                 11           Uptown   \n",
       "3            W                       120                 11   Pioneer Square   \n",
       "4            E                       120                 11   Pioneer Square   \n",
       "5            E                       120                  9   Pioneer Square   \n",
       "6            E                       120                  6   Pioneer Square   \n",
       "7            W                       120                  9        Pike-Pine   \n",
       "8            E                       120                 27        Pike-Pine   \n",
       "9            W                       240                  5           Uptown   \n",
       "\n",
       "  PaidParkingSubArea ParkingCategory                           Location  \n",
       "0         Waterfront    Paid Parking   POINT (-122.3366575 47.60501765)  \n",
       "1              South    Paid Parking  POINT (-122.34188878 47.61073498)  \n",
       "2               Core    Paid Parking  POINT (-122.35549857 47.62391565)  \n",
       "3               Core    Paid Parking  POINT (-122.33428548 47.60129336)  \n",
       "4               Core    Paid Parking   POINT (-122.3340747 47.60129576)  \n",
       "5               Core    Paid Parking  POINT (-122.33407785 47.60046351)  \n",
       "6               Edge    Paid Parking  POINT (-122.33405747 47.59609416)  \n",
       "7                UKN    Paid Parking  POINT (-122.31955777 47.61468219)  \n",
       "8                UKN    Paid Parking    POINT (-122.31934691 47.614681)  \n",
       "9               Edge    Paid Parking  POINT (-122.35809341 47.62515306)  "
      ]
     },
     "execution_count": 20,
     "metadata": {},
     "output_type": "execute_result"
    }
   ],
   "source": [
    "locations_sample"
   ]
  },
  {
   "cell_type": "markdown",
   "metadata": {},
   "source": [
    "Clean up some duplicates"
   ]
  },
  {
   "cell_type": "code",
   "execution_count": 21,
   "metadata": {},
   "outputs": [],
   "source": [
    "bc.create_table('parking_locations', bc.sql('SELECT * FROM parking_locations').drop_duplicates(subset=['SourceElementKey']))"
   ]
  },
  {
   "cell_type": "markdown",
   "metadata": {},
   "source": [
    "# Featurize parking transactions\n",
    "Since we'll be looking at the parking occupancy per hour of the day, per day of the week, let's extract the date features."
   ]
  },
  {
   "cell_type": "code",
   "execution_count": 22,
   "metadata": {},
   "outputs": [
    {
     "data": {
      "text/html": [
       "<div>\n",
       "<style scoped>\n",
       "    .dataframe tbody tr th:only-of-type {\n",
       "        vertical-align: middle;\n",
       "    }\n",
       "\n",
       "    .dataframe tbody tr th {\n",
       "        vertical-align: top;\n",
       "    }\n",
       "\n",
       "    .dataframe thead th {\n",
       "        text-align: right;\n",
       "    }\n",
       "</style>\n",
       "<table border=\"1\" class=\"dataframe\">\n",
       "  <thead>\n",
       "    <tr style=\"text-align: right;\">\n",
       "      <th></th>\n",
       "      <th>OccupancyDateTime</th>\n",
       "      <th>PaidOccupancy</th>\n",
       "      <th>SourceElementKey</th>\n",
       "      <th>dow</th>\n",
       "      <th>o_year</th>\n",
       "      <th>o_month</th>\n",
       "      <th>o_day</th>\n",
       "      <th>o_hour</th>\n",
       "    </tr>\n",
       "  </thead>\n",
       "  <tbody>\n",
       "    <tr>\n",
       "      <th>0</th>\n",
       "      <td>2019-05-24 08:35:00</td>\n",
       "      <td>1</td>\n",
       "      <td>35438</td>\n",
       "      <td>4</td>\n",
       "      <td>2019</td>\n",
       "      <td>5</td>\n",
       "      <td>24</td>\n",
       "      <td>8</td>\n",
       "    </tr>\n",
       "    <tr>\n",
       "      <th>1</th>\n",
       "      <td>2019-05-24 13:41:00</td>\n",
       "      <td>3</td>\n",
       "      <td>58402</td>\n",
       "      <td>4</td>\n",
       "      <td>2019</td>\n",
       "      <td>5</td>\n",
       "      <td>24</td>\n",
       "      <td>13</td>\n",
       "    </tr>\n",
       "    <tr>\n",
       "      <th>2</th>\n",
       "      <td>2019-05-24 09:29:00</td>\n",
       "      <td>3</td>\n",
       "      <td>59954</td>\n",
       "      <td>4</td>\n",
       "      <td>2019</td>\n",
       "      <td>5</td>\n",
       "      <td>24</td>\n",
       "      <td>9</td>\n",
       "    </tr>\n",
       "    <tr>\n",
       "      <th>3</th>\n",
       "      <td>2019-05-24 08:32:00</td>\n",
       "      <td>1</td>\n",
       "      <td>76961</td>\n",
       "      <td>4</td>\n",
       "      <td>2019</td>\n",
       "      <td>5</td>\n",
       "      <td>24</td>\n",
       "      <td>8</td>\n",
       "    </tr>\n",
       "    <tr>\n",
       "      <th>4</th>\n",
       "      <td>2019-05-24 15:17:00</td>\n",
       "      <td>1</td>\n",
       "      <td>32466</td>\n",
       "      <td>4</td>\n",
       "      <td>2019</td>\n",
       "      <td>5</td>\n",
       "      <td>24</td>\n",
       "      <td>15</td>\n",
       "    </tr>\n",
       "    <tr>\n",
       "      <th>5</th>\n",
       "      <td>2019-05-24 12:28:00</td>\n",
       "      <td>4</td>\n",
       "      <td>68921</td>\n",
       "      <td>4</td>\n",
       "      <td>2019</td>\n",
       "      <td>5</td>\n",
       "      <td>24</td>\n",
       "      <td>12</td>\n",
       "    </tr>\n",
       "    <tr>\n",
       "      <th>6</th>\n",
       "      <td>2019-06-10 13:40:00</td>\n",
       "      <td>4</td>\n",
       "      <td>75169</td>\n",
       "      <td>0</td>\n",
       "      <td>2019</td>\n",
       "      <td>6</td>\n",
       "      <td>10</td>\n",
       "      <td>13</td>\n",
       "    </tr>\n",
       "    <tr>\n",
       "      <th>7</th>\n",
       "      <td>2019-06-10 09:33:00</td>\n",
       "      <td>4</td>\n",
       "      <td>36118</td>\n",
       "      <td>0</td>\n",
       "      <td>2019</td>\n",
       "      <td>6</td>\n",
       "      <td>10</td>\n",
       "      <td>9</td>\n",
       "    </tr>\n",
       "    <tr>\n",
       "      <th>8</th>\n",
       "      <td>2019-06-10 19:13:00</td>\n",
       "      <td>4</td>\n",
       "      <td>7265</td>\n",
       "      <td>0</td>\n",
       "      <td>2019</td>\n",
       "      <td>6</td>\n",
       "      <td>10</td>\n",
       "      <td>19</td>\n",
       "    </tr>\n",
       "    <tr>\n",
       "      <th>9</th>\n",
       "      <td>2019-06-10 08:28:00</td>\n",
       "      <td>2</td>\n",
       "      <td>79789</td>\n",
       "      <td>0</td>\n",
       "      <td>2019</td>\n",
       "      <td>6</td>\n",
       "      <td>10</td>\n",
       "      <td>8</td>\n",
       "    </tr>\n",
       "  </tbody>\n",
       "</table>\n",
       "</div>"
      ],
      "text/plain": [
       "    OccupancyDateTime  PaidOccupancy  SourceElementKey  dow  o_year  o_month  \\\n",
       "0 2019-05-24 08:35:00              1             35438    4    2019        5   \n",
       "1 2019-05-24 13:41:00              3             58402    4    2019        5   \n",
       "2 2019-05-24 09:29:00              3             59954    4    2019        5   \n",
       "3 2019-05-24 08:32:00              1             76961    4    2019        5   \n",
       "4 2019-05-24 15:17:00              1             32466    4    2019        5   \n",
       "5 2019-05-24 12:28:00              4             68921    4    2019        5   \n",
       "6 2019-06-10 13:40:00              4             75169    0    2019        6   \n",
       "7 2019-06-10 09:33:00              4             36118    0    2019        6   \n",
       "8 2019-06-10 19:13:00              4              7265    0    2019        6   \n",
       "9 2019-06-10 08:28:00              2             79789    0    2019        6   \n",
       "\n",
       "   o_day  o_hour  \n",
       "0     24       8  \n",
       "1     24      13  \n",
       "2     24       9  \n",
       "3     24       8  \n",
       "4     24      15  \n",
       "5     24      12  \n",
       "6     10      13  \n",
       "7     10       9  \n",
       "8     10      19  \n",
       "9     10       8  "
      ]
     },
     "execution_count": 22,
     "metadata": {},
     "output_type": "execute_result"
    }
   ],
   "source": [
    "bc.create_table('parking_transactions'\n",
    "    , bc.sql('''\n",
    "        SELECT *\n",
    "            , YEAR(OccupancyDateTime) AS o_year \n",
    "            , MONTH(OccupancyDateTime) AS o_month\n",
    "            , DAYOFMONTH(OccupancyDateTime) AS o_day\n",
    "            , HOUR(OccupancyDateTime) AS o_hour\n",
    "        FROM parking_transactions\n",
    "    ''')\n",
    ")\n",
    "bc.sql('SELECT * FROM parking_transactions LIMIT 10')"
   ]
  },
  {
   "cell_type": "markdown",
   "metadata": {},
   "source": [
    "Let's see how many transactions we get per day."
   ]
  },
  {
   "cell_type": "code",
   "execution_count": 23,
   "metadata": {},
   "outputs": [
    {
     "name": "stdout",
     "output_type": "stream",
     "text": [
      "CPU times: user 1.55 s, sys: 35.4 ms, total: 1.59 s\n",
      "Wall time: 1.23 s\n"
     ]
    },
    {
     "data": {
      "text/plain": [
       "<AxesSubplot:xlabel='o_year,o_month,o_day'>"
      ]
     },
     "execution_count": 23,
     "metadata": {},
     "output_type": "execute_result"
    },
    {
     "data": {
      "image/png": "[encoded data removed]",
      "text/plain": [
       "<Figure size 1296x648 with 1 Axes>"
      ]
     },
     "metadata": {
      "needs_background": "light"
     },
     "output_type": "display_data"
    }
   ],
   "source": [
    "%%time\n",
    "counts = bc.sql('''\n",
    "    SELECT o_year\n",
    "        , o_month\n",
    "        , o_day\n",
    "        , COUNT(*) AS cnt\n",
    "    FROM parking_transactions\n",
    "    GROUP BY o_year\n",
    "        , o_month\n",
    "        , o_day\n",
    "    ORDER BY o_year\n",
    "        , o_month\n",
    "        , o_day\n",
    "''')\n",
    "counts.to_pandas().set_index(['o_year', 'o_month', 'o_day']).plot(kind='bar', figsize=(18,9))"
   ]
  },
  {
   "cell_type": "markdown",
   "metadata": {},
   "source": [
    "As you can see we get almost consistently the same daily number of transactions."
   ]
  },
  {
   "cell_type": "code",
   "execution_count": 24,
   "metadata": {},
   "outputs": [
    {
     "name": "stdout",
     "output_type": "stream",
     "text": [
      "Average number of transactions per day: 238,603\n"
     ]
    }
   ],
   "source": [
    "print('Average number of transactions per day: {0:,.0f}'.format(counts['cnt'].mean()))"
   ]
  },
  {
   "cell_type": "markdown",
   "metadata": {},
   "source": [
    "# Featurize parking locations\n",
    "Let's now extract the latitude and longitude from the parking `Location` metadata."
   ]
  },
  {
   "cell_type": "code",
   "execution_count": 25,
   "metadata": {},
   "outputs": [],
   "source": [
    "bc.create_table('parking_locations', \n",
    "    bc.sql('''\n",
    "        SELECT *\n",
    "            , CAST(SUBSTRING(Location, 8, delimiter_location - 10) AS FLOAT) AS LON\n",
    "            , SUBSTRING(Location, delimiter_location, A.len - delimiter_location) AS LAT\n",
    "        FROM (\n",
    "            SELECT *\n",
    "                , CHAR_LENGTH(Location) AS len\n",
    "                , CASE \n",
    "                    WHEN SUBSTRING(Location, 19, 1) = ' ' THEN 20 \n",
    "                    WHEN SUBSTRING(Location, 20, 1) = ' ' THEN 21 \n",
    "                    WHEN SUBSTRING(Location, 21, 1) = ' ' THEN 22\n",
    "                    WHEN SUBSTRING(Location, 22, 1) = ' ' THEN 23\n",
    "                  END AS delimiter_location\n",
    "            FROM parking_locations \n",
    "        ) AS A\n",
    "    ''')\n",
    ")"
   ]
  },
  {
   "cell_type": "markdown",
   "metadata": {},
   "source": [
    "# Average occupancy\n",
    "Average occupancy can be higher than 100%: I think it's a data fluke. Thus, we cap it at 100% in the query below."
   ]
  },
  {
   "cell_type": "code",
   "execution_count": 26,
   "metadata": {},
   "outputs": [
    {
     "name": "stdout",
     "output_type": "stream",
     "text": [
      "CPU times: user 155 ms, sys: 73.6 ms, total: 229 ms\n",
      "Wall time: 158 ms\n"
     ]
    },
    {
     "data": {
      "text/html": [
       "<div>\n",
       "<style scoped>\n",
       "    .dataframe tbody tr th:only-of-type {\n",
       "        vertical-align: middle;\n",
       "    }\n",
       "\n",
       "    .dataframe tbody tr th {\n",
       "        vertical-align: top;\n",
       "    }\n",
       "\n",
       "    .dataframe thead th {\n",
       "        text-align: right;\n",
       "    }\n",
       "</style>\n",
       "<table border=\"1\" class=\"dataframe\">\n",
       "  <thead>\n",
       "    <tr style=\"text-align: right;\">\n",
       "      <th></th>\n",
       "      <th>SourceElementKey</th>\n",
       "      <th>OccupancyDateTime</th>\n",
       "      <th>PaidOccupancy</th>\n",
       "      <th>ParkingSpaceCount</th>\n",
       "      <th>AvgOccupancy</th>\n",
       "      <th>dow</th>\n",
       "      <th>o_hour</th>\n",
       "    </tr>\n",
       "  </thead>\n",
       "  <tbody>\n",
       "    <tr>\n",
       "      <th>0</th>\n",
       "      <td>58186</td>\n",
       "      <td>2019-06-28 15:07:00</td>\n",
       "      <td>3</td>\n",
       "      <td>8</td>\n",
       "      <td>0.375000</td>\n",
       "      <td>4</td>\n",
       "      <td>15</td>\n",
       "    </tr>\n",
       "    <tr>\n",
       "      <th>1</th>\n",
       "      <td>34885</td>\n",
       "      <td>2019-06-28 15:38:00</td>\n",
       "      <td>4</td>\n",
       "      <td>15</td>\n",
       "      <td>0.266667</td>\n",
       "      <td>4</td>\n",
       "      <td>15</td>\n",
       "    </tr>\n",
       "    <tr>\n",
       "      <th>2</th>\n",
       "      <td>46766</td>\n",
       "      <td>2019-06-28 10:14:00</td>\n",
       "      <td>2</td>\n",
       "      <td>19</td>\n",
       "      <td>0.105263</td>\n",
       "      <td>4</td>\n",
       "      <td>10</td>\n",
       "    </tr>\n",
       "    <tr>\n",
       "      <th>3</th>\n",
       "      <td>79022</td>\n",
       "      <td>2019-06-28 11:31:00</td>\n",
       "      <td>7</td>\n",
       "      <td>6</td>\n",
       "      <td>1.000000</td>\n",
       "      <td>4</td>\n",
       "      <td>11</td>\n",
       "    </tr>\n",
       "    <tr>\n",
       "      <th>4</th>\n",
       "      <td>35749</td>\n",
       "      <td>2019-06-28 12:56:00</td>\n",
       "      <td>2</td>\n",
       "      <td>7</td>\n",
       "      <td>0.285714</td>\n",
       "      <td>4</td>\n",
       "      <td>12</td>\n",
       "    </tr>\n",
       "    <tr>\n",
       "      <th>5</th>\n",
       "      <td>75282</td>\n",
       "      <td>2019-06-28 08:51:00</td>\n",
       "      <td>3</td>\n",
       "      <td>5</td>\n",
       "      <td>0.600000</td>\n",
       "      <td>4</td>\n",
       "      <td>8</td>\n",
       "    </tr>\n",
       "    <tr>\n",
       "      <th>6</th>\n",
       "      <td>19486</td>\n",
       "      <td>2019-06-28 18:45:00</td>\n",
       "      <td>1</td>\n",
       "      <td>4</td>\n",
       "      <td>0.250000</td>\n",
       "      <td>4</td>\n",
       "      <td>18</td>\n",
       "    </tr>\n",
       "    <tr>\n",
       "      <th>7</th>\n",
       "      <td>9678</td>\n",
       "      <td>2019-06-28 12:36:00</td>\n",
       "      <td>2</td>\n",
       "      <td>5</td>\n",
       "      <td>0.400000</td>\n",
       "      <td>4</td>\n",
       "      <td>12</td>\n",
       "    </tr>\n",
       "    <tr>\n",
       "      <th>8</th>\n",
       "      <td>14673</td>\n",
       "      <td>2019-06-28 17:36:00</td>\n",
       "      <td>3</td>\n",
       "      <td>8</td>\n",
       "      <td>0.375000</td>\n",
       "      <td>4</td>\n",
       "      <td>17</td>\n",
       "    </tr>\n",
       "    <tr>\n",
       "      <th>9</th>\n",
       "      <td>9357</td>\n",
       "      <td>2019-06-28 16:50:00</td>\n",
       "      <td>1</td>\n",
       "      <td>8</td>\n",
       "      <td>0.125000</td>\n",
       "      <td>4</td>\n",
       "      <td>16</td>\n",
       "    </tr>\n",
       "  </tbody>\n",
       "</table>\n",
       "</div>"
      ],
      "text/plain": [
       "   SourceElementKey   OccupancyDateTime  PaidOccupancy  ParkingSpaceCount  \\\n",
       "0             58186 2019-06-28 15:07:00              3                  8   \n",
       "1             34885 2019-06-28 15:38:00              4                 15   \n",
       "2             46766 2019-06-28 10:14:00              2                 19   \n",
       "3             79022 2019-06-28 11:31:00              7                  6   \n",
       "4             35749 2019-06-28 12:56:00              2                  7   \n",
       "5             75282 2019-06-28 08:51:00              3                  5   \n",
       "6             19486 2019-06-28 18:45:00              1                  4   \n",
       "7              9678 2019-06-28 12:36:00              2                  5   \n",
       "8             14673 2019-06-28 17:36:00              3                  8   \n",
       "9              9357 2019-06-28 16:50:00              1                  8   \n",
       "\n",
       "   AvgOccupancy  dow  o_hour  \n",
       "0      0.375000    4      15  \n",
       "1      0.266667    4      15  \n",
       "2      0.105263    4      10  \n",
       "3      1.000000    4      11  \n",
       "4      0.285714    4      12  \n",
       "5      0.600000    4       8  \n",
       "6      0.250000    4      18  \n",
       "7      0.400000    4      12  \n",
       "8      0.375000    4      17  \n",
       "9      0.125000    4      16  "
      ]
     },
     "execution_count": 26,
     "metadata": {},
     "output_type": "execute_result"
    }
   ],
   "source": [
    "%%time\n",
    "bc.create_table('parking_transactions'\n",
    "    , bc.sql('''\n",
    "        SELECT SourceElementKey\n",
    "            , OccupancyDateTime\n",
    "            , PaidOccupancy\n",
    "            , ParkingSpaceCount\n",
    "            , CASE WHEN AvgOccupancy > 1 THEN 1 ELSE AvgOccupancy END AS AvgOccupancy\n",
    "            , dow\n",
    "            , o_hour\n",
    "        FROM (\n",
    "            SELECT A.*\n",
    "                , B.ParkingSpaceCount\n",
    "                , A.PaidOccupancy / CAST(B.ParkingSpaceCount AS FLOAT) AS AvgOccupancy\n",
    "            FROM parking_transactions AS A\n",
    "            LEFT OUTER JOIN (SELECT SourceElementKey, ParkingSpaceCount FROM parking_locations) AS B\n",
    "                ON A.SourceElementKey = B.SourceElementKey\n",
    "        ) AS inner_table\n",
    "    ''')\n",
    ")\n",
    "\n",
    "bc.sql('SELECT * FROM parking_transactions LIMIT 10')"
   ]
  },
  {
   "cell_type": "code",
   "execution_count": 27,
   "metadata": {},
   "outputs": [
    {
     "name": "stdout",
     "output_type": "stream",
     "text": [
      "CPU times: user 92.5 ms, sys: 10.9 ms, total: 103 ms\n",
      "Wall time: 78.7 ms\n"
     ]
    }
   ],
   "source": [
    "%%time\n",
    "bc.create_table('means', bc.sql('''\n",
    "    SELECT SourceElementKey\n",
    "        , dow\n",
    "        , o_hour\n",
    "        , AVG(AvgOccupancy) AS MeanOccupancy\n",
    "    FROM parking_transactions\n",
    "    GROUP BY SourceElementKey\n",
    "        , dow\n",
    "        , o_hour\n",
    "'''))"
   ]
  },
  {
   "cell_type": "markdown",
   "metadata": {},
   "source": [
    "## Average per day-of-week and per hour"
   ]
  },
  {
   "cell_type": "markdown",
   "metadata": {},
   "source": [
    "Let's see an average occupancy per day of the week, per hour of the day."
   ]
  },
  {
   "cell_type": "code",
   "execution_count": 28,
   "metadata": {},
   "outputs": [
    {
     "name": "stdout",
     "output_type": "stream",
     "text": [
      "CPU times: user 257 ms, sys: 66.7 ms, total: 324 ms\n",
      "Wall time: 232 ms\n"
     ]
    }
   ],
   "source": [
    "%%time\n",
    "mean_occupancy = bc.sql('''\n",
    "    SELECT A.dow\n",
    "        , B.dow_str\n",
    "        , A.o_hour\n",
    "        , AVG(A.AvgOccupancy) AS MeanOccupancy\n",
    "    FROM parking_transactions AS A\n",
    "    LEFT OUTER JOIN dow AS B\n",
    "        ON A.dow = B.dow\n",
    "    GROUP BY A.dow\n",
    "        , B.dow_str\n",
    "        , A.o_hour\n",
    "    ORDER BY A.dow\n",
    "        , A.o_hour\n",
    "''')"
   ]
  },
  {
   "cell_type": "code",
   "execution_count": 29,
   "metadata": {},
   "outputs": [
    {
     "data": {
      "text/plain": [
       "<AxesSubplot:xlabel='dow_str,o_hour'>"
      ]
     },
     "execution_count": 29,
     "metadata": {},
     "output_type": "execute_result"
    },
    {
     "data": {
      "image/png": "[encoded data removed]",
      "text/plain": [
       "<Figure size 1296x648 with 1 Axes>"
      ]
     },
     "metadata": {
      "needs_background": "light"
     },
     "output_type": "display_data"
    }
   ],
   "source": [
    "mean_occupancy.to_pandas().set_index(['dow_str', 'o_hour'])['MeanOccupancy'].plot(kind='bar', figsize=(18,9))"
   ]
  },
  {
   "cell_type": "markdown",
   "metadata": {},
   "source": [
    "You can clearly see the daily seasonality and the effects of the Friday night. **NOTE** Sunday is not present here as the parking in Seattle if free on Sundays."
   ]
  },
  {
   "cell_type": "markdown",
   "metadata": {},
   "source": [
    "# Find the best parking\n",
    "Let's now consider a usecase: you want to come to visit Space Needle in Seattle that has the iconic view of Downtown and of the Puget Sound."
   ]
  },
  {
   "cell_type": "code",
   "execution_count": 30,
   "metadata": {},
   "outputs": [
    {
     "name": "stdout",
     "output_type": "stream",
     "text": [
      "CPU times: user 59.3 ms, sys: 10.6 ms, total: 69.9 ms\n",
      "Wall time: 36.1 ms\n"
     ]
    },
    {
     "data": {
      "text/html": [
       "<div>\n",
       "<style scoped>\n",
       "    .dataframe tbody tr th:only-of-type {\n",
       "        vertical-align: middle;\n",
       "    }\n",
       "\n",
       "    .dataframe tbody tr th {\n",
       "        vertical-align: top;\n",
       "    }\n",
       "\n",
       "    .dataframe thead th {\n",
       "        text-align: right;\n",
       "    }\n",
       "</style>\n",
       "<table border=\"1\" class=\"dataframe\">\n",
       "  <thead>\n",
       "    <tr style=\"text-align: right;\">\n",
       "      <th></th>\n",
       "      <th>SourceElementKey</th>\n",
       "      <th>BlockfaceName</th>\n",
       "      <th>SideOfStreet</th>\n",
       "      <th>ParkingTimeLimitCategory</th>\n",
       "      <th>ParkingSpaceCount</th>\n",
       "      <th>PaidParkingArea</th>\n",
       "      <th>PaidParkingSubArea</th>\n",
       "      <th>ParkingCategory</th>\n",
       "      <th>Location</th>\n",
       "      <th>len</th>\n",
       "      <th>delimiter_location</th>\n",
       "      <th>LON</th>\n",
       "      <th>LAT</th>\n",
       "      <th>LAT_Ref</th>\n",
       "      <th>LON_Ref</th>\n",
       "    </tr>\n",
       "  </thead>\n",
       "  <tbody>\n",
       "    <tr>\n",
       "      <th>0</th>\n",
       "      <td>1001</td>\n",
       "      <td>1ST AVE BETWEEN CHERRY ST AND COLUMBIA ST</td>\n",
       "      <td>SW</td>\n",
       "      <td>120</td>\n",
       "      <td>4</td>\n",
       "      <td>Pioneer Square</td>\n",
       "      <td>Core</td>\n",
       "      <td>Paid Parking</td>\n",
       "      <td>POINT (-122.33469356 47.6028728)</td>\n",
       "      <td>32</td>\n",
       "      <td>22</td>\n",
       "      <td>-122.334694</td>\n",
       "      <td>47.6028728</td>\n",
       "      <td>47.620422</td>\n",
       "      <td>-122.349358</td>\n",
       "    </tr>\n",
       "    <tr>\n",
       "      <th>1</th>\n",
       "      <td>1002</td>\n",
       "      <td>1ST AVE BETWEEN CHERRY ST AND COLUMBIA ST</td>\n",
       "      <td>NE</td>\n",
       "      <td>120</td>\n",
       "      <td>8</td>\n",
       "      <td>Pioneer Square</td>\n",
       "      <td>Core</td>\n",
       "      <td>Paid Parking</td>\n",
       "      <td>POINT (-122.33451266 47.60294861)</td>\n",
       "      <td>33</td>\n",
       "      <td>22</td>\n",
       "      <td>-122.334511</td>\n",
       "      <td>47.60294861</td>\n",
       "      <td>47.620422</td>\n",
       "      <td>-122.349358</td>\n",
       "    </tr>\n",
       "    <tr>\n",
       "      <th>2</th>\n",
       "      <td>1006</td>\n",
       "      <td>1ST AVE BETWEEN COLUMBIA ST AND MARION ST</td>\n",
       "      <td>NE</td>\n",
       "      <td>120</td>\n",
       "      <td>7</td>\n",
       "      <td>Commercial Core</td>\n",
       "      <td>Waterfront</td>\n",
       "      <td>Paid Parking</td>\n",
       "      <td>POINT (-122.33514326 47.60367439)</td>\n",
       "      <td>33</td>\n",
       "      <td>22</td>\n",
       "      <td>-122.335144</td>\n",
       "      <td>47.60367439</td>\n",
       "      <td>47.620422</td>\n",
       "      <td>-122.349358</td>\n",
       "    </tr>\n",
       "    <tr>\n",
       "      <th>3</th>\n",
       "      <td>1009</td>\n",
       "      <td>1ST AVE BETWEEN MADISON ST AND SPRING ST</td>\n",
       "      <td>SW</td>\n",
       "      <td>30</td>\n",
       "      <td>5</td>\n",
       "      <td>Commercial Core</td>\n",
       "      <td>Waterfront</td>\n",
       "      <td>Paid Parking</td>\n",
       "      <td>POINT (-122.3366575 47.60501765)</td>\n",
       "      <td>32</td>\n",
       "      <td>21</td>\n",
       "      <td>-122.336655</td>\n",
       "      <td>47.60501765</td>\n",
       "      <td>47.620422</td>\n",
       "      <td>-122.349358</td>\n",
       "    </tr>\n",
       "    <tr>\n",
       "      <th>4</th>\n",
       "      <td>1010</td>\n",
       "      <td>1ST AVE BETWEEN MADISON ST AND SPRING ST</td>\n",
       "      <td>NE</td>\n",
       "      <td>120</td>\n",
       "      <td>5</td>\n",
       "      <td>Commercial Core</td>\n",
       "      <td>Waterfront</td>\n",
       "      <td>Paid Parking</td>\n",
       "      <td>POINT (-122.33644748 47.6051007)</td>\n",
       "      <td>32</td>\n",
       "      <td>22</td>\n",
       "      <td>-122.336449</td>\n",
       "      <td>47.6051007</td>\n",
       "      <td>47.620422</td>\n",
       "      <td>-122.349358</td>\n",
       "    </tr>\n",
       "  </tbody>\n",
       "</table>\n",
       "</div>"
      ],
      "text/plain": [
       "   SourceElementKey                              BlockfaceName SideOfStreet  \\\n",
       "0              1001  1ST AVE BETWEEN CHERRY ST AND COLUMBIA ST           SW   \n",
       "1              1002  1ST AVE BETWEEN CHERRY ST AND COLUMBIA ST           NE   \n",
       "2              1006  1ST AVE BETWEEN COLUMBIA ST AND MARION ST           NE   \n",
       "3              1009   1ST AVE BETWEEN MADISON ST AND SPRING ST           SW   \n",
       "4              1010   1ST AVE BETWEEN MADISON ST AND SPRING ST           NE   \n",
       "\n",
       "   ParkingTimeLimitCategory  ParkingSpaceCount  PaidParkingArea  \\\n",
       "0                       120                  4   Pioneer Square   \n",
       "1                       120                  8   Pioneer Square   \n",
       "2                       120                  7  Commercial Core   \n",
       "3                        30                  5  Commercial Core   \n",
       "4                       120                  5  Commercial Core   \n",
       "\n",
       "  PaidParkingSubArea ParkingCategory                           Location  len  \\\n",
       "0               Core    Paid Parking   POINT (-122.33469356 47.6028728)   32   \n",
       "1               Core    Paid Parking  POINT (-122.33451266 47.60294861)   33   \n",
       "2         Waterfront    Paid Parking  POINT (-122.33514326 47.60367439)   33   \n",
       "3         Waterfront    Paid Parking   POINT (-122.3366575 47.60501765)   32   \n",
       "4         Waterfront    Paid Parking   POINT (-122.33644748 47.6051007)   32   \n",
       "\n",
       "   delimiter_location         LON          LAT    LAT_Ref     LON_Ref  \n",
       "0                  22 -122.334694   47.6028728  47.620422 -122.349358  \n",
       "1                  22 -122.334511  47.60294861  47.620422 -122.349358  \n",
       "2                  22 -122.335144  47.60367439  47.620422 -122.349358  \n",
       "3                  21 -122.336655  47.60501765  47.620422 -122.349358  \n",
       "4                  22 -122.336449   47.6051007  47.620422 -122.349358  "
      ]
     },
     "execution_count": 30,
     "metadata": {},
     "output_type": "execute_result"
    }
   ],
   "source": [
    "%%time\n",
    "bc.create_table('parking_locations'\n",
    "    , bc.sql('''\n",
    "        SELECT *\n",
    "            , 47.620422 AS LAT_Ref\n",
    "            , -122.349358 AS LON_Ref\n",
    "        FROM parking_locations\n",
    "    ''')\n",
    ")\n",
    "\n",
    "bc.sql('SELECT * FROM parking_locations LIMIT 5')"
   ]
  },
  {
   "cell_type": "markdown",
   "metadata": {},
   "source": [
    "First, we'll calculate a haversine distance from the Kerry Park to each and every parking location in our dataset."
   ]
  },
  {
   "cell_type": "code",
   "execution_count": 31,
   "metadata": {},
   "outputs": [],
   "source": [
    "bc.create_table('temp', bc.sql('''\n",
    "    SELECT SourceElementKey\n",
    "        , LON\n",
    "        , LAT\n",
    "        , LON_Ref\n",
    "        , LAT_Ref\n",
    "        , LAT / 180.0 * 3.141592653589 AS LAT_RAD\n",
    "        , LAT_Ref / 180.0 * 3.141592653589 AS LAT_REF_RAD\n",
    "        , (LON_Ref - LON) / 180.0 * 3.141592653589 AS DELTA_LON\n",
    "        , (LAT_Ref - LAT) / 180.0 * 3.141592653589 AS DELTA_LAT\n",
    "    FROM parking_locations\n",
    "'''))\n",
    "\n",
    "bc.create_table('temp', bc.sql('''\n",
    "        SELECT *\n",
    "            , POWER(SIN(DELTA_LAT / 2.0),2) + COS(LAT_RAD) * COS(LAT_REF_RAD) * POWER(SIN(DELTA_LON / 2.0),2) AS A\n",
    "        FROM temp\n",
    "    ''')\n",
    ")\n",
    "\n",
    "bc.create_table('parking_locations', \n",
    "    bc.sql('''\n",
    "        SELECT A.*\n",
    "            , ASIN(SQRT(A)) * 2 * 3958.8 * 5280 AS DISTANCE_FEET\n",
    "        FROM parking_locations AS A\n",
    "        LEFT OUTER JOIN temp AS B\n",
    "            ON A.SourceElementKey = B.SourceElementKey\n",
    "    ''')\n",
    ")"
   ]
  },
  {
   "cell_type": "code",
   "execution_count": 32,
   "metadata": {},
   "outputs": [],
   "source": [
    "bc.drop_table('temp')"
   ]
  },
  {
   "cell_type": "markdown",
   "metadata": {},
   "source": [
    "Further, let's now consider that you want to come to visit on Thursday around 5PM. Here's a list of the parking spots that are nearest to Kerry Park and give you the highest chances of actually finding a parking spot."
   ]
  },
  {
   "cell_type": "code",
   "execution_count": 33,
   "metadata": {},
   "outputs": [
    {
     "name": "stdout",
     "output_type": "stream",
     "text": [
      "CPU times: user 178 ms, sys: 4.09 ms, total: 182 ms\n",
      "Wall time: 122 ms\n"
     ]
    },
    {
     "data": {
      "text/html": [
       "<div>\n",
       "<style scoped>\n",
       "    .dataframe tbody tr th:only-of-type {\n",
       "        vertical-align: middle;\n",
       "    }\n",
       "\n",
       "    .dataframe tbody tr th {\n",
       "        vertical-align: top;\n",
       "    }\n",
       "\n",
       "    .dataframe thead th {\n",
       "        text-align: right;\n",
       "    }\n",
       "</style>\n",
       "<table border=\"1\" class=\"dataframe\">\n",
       "  <thead>\n",
       "    <tr style=\"text-align: right;\">\n",
       "      <th></th>\n",
       "      <th>BlockfaceName</th>\n",
       "      <th>PaidParkingArea</th>\n",
       "      <th>ParkingCategory</th>\n",
       "      <th>day_of_week</th>\n",
       "      <th>hour_of_day</th>\n",
       "      <th>LON</th>\n",
       "      <th>LAT</th>\n",
       "      <th>DISTANCE_FEET</th>\n",
       "      <th>MeanOccupancy</th>\n",
       "    </tr>\n",
       "  </thead>\n",
       "  <tbody>\n",
       "    <tr>\n",
       "      <th>0</th>\n",
       "      <td>CLAY ST BETWEEN 3RD AVE AND 4TH AVE</td>\n",
       "      <td>Belltown</td>\n",
       "      <td>Paid Parking</td>\n",
       "      <td>4</td>\n",
       "      <td>17</td>\n",
       "      <td>-122.349480</td>\n",
       "      <td>47.61806027</td>\n",
       "      <td>862.118197</td>\n",
       "      <td>0.353383</td>\n",
       "    </tr>\n",
       "    <tr>\n",
       "      <th>1</th>\n",
       "      <td>3RD AVE BETWEEN BROAD ST AND DENNY WAY</td>\n",
       "      <td>Belltown</td>\n",
       "      <td>Paid Parking</td>\n",
       "      <td>4</td>\n",
       "      <td>17</td>\n",
       "      <td>-122.351189</td>\n",
       "      <td>47.61837759</td>\n",
       "      <td>871.161670</td>\n",
       "      <td>0.428875</td>\n",
       "    </tr>\n",
       "    <tr>\n",
       "      <th>2</th>\n",
       "      <td>2ND AVE N BETWEEN JOHN ST AND THOMAS ST</td>\n",
       "      <td>Uptown</td>\n",
       "      <td>Paid Parking</td>\n",
       "      <td>4</td>\n",
       "      <td>17</td>\n",
       "      <td>-122.352936</td>\n",
       "      <td>47.62036489</td>\n",
       "      <td>880.028866</td>\n",
       "      <td>0.415094</td>\n",
       "    </tr>\n",
       "    <tr>\n",
       "      <th>3</th>\n",
       "      <td>CLAY ST BETWEEN 3RD AVE AND 4TH AVE</td>\n",
       "      <td>Belltown</td>\n",
       "      <td>Paid Parking</td>\n",
       "      <td>4</td>\n",
       "      <td>17</td>\n",
       "      <td>-122.349297</td>\n",
       "      <td>47.61799756</td>\n",
       "      <td>884.605478</td>\n",
       "      <td>0.474813</td>\n",
       "    </tr>\n",
       "    <tr>\n",
       "      <th>4</th>\n",
       "      <td>3RD AVE BETWEEN CLAY ST AND BROAD ST</td>\n",
       "      <td>Belltown</td>\n",
       "      <td>Paid Parking</td>\n",
       "      <td>4</td>\n",
       "      <td>17</td>\n",
       "      <td>-122.350227</td>\n",
       "      <td>47.61801873</td>\n",
       "      <td>902.440232</td>\n",
       "      <td>0.201681</td>\n",
       "    </tr>\n",
       "    <tr>\n",
       "      <th>5</th>\n",
       "      <td>THOMAS ST BETWEEN TAYLOR AVE N AND 6TH AVE N</td>\n",
       "      <td>Uptown Triangle</td>\n",
       "      <td>Paid Parking</td>\n",
       "      <td>4</td>\n",
       "      <td>17</td>\n",
       "      <td>-122.345642</td>\n",
       "      <td>47.62082637</td>\n",
       "      <td>925.573610</td>\n",
       "      <td>0.464097</td>\n",
       "    </tr>\n",
       "    <tr>\n",
       "      <th>6</th>\n",
       "      <td>3RD AVE BETWEEN CLAY ST AND BROAD ST</td>\n",
       "      <td>Belltown</td>\n",
       "      <td>Paid Parking</td>\n",
       "      <td>4</td>\n",
       "      <td>17</td>\n",
       "      <td>-122.350372</td>\n",
       "      <td>47.61790727</td>\n",
       "      <td>950.718386</td>\n",
       "      <td>0.283120</td>\n",
       "    </tr>\n",
       "  </tbody>\n",
       "</table>\n",
       "</div>"
      ],
      "text/plain": [
       "                                  BlockfaceName  PaidParkingArea  \\\n",
       "0           CLAY ST BETWEEN 3RD AVE AND 4TH AVE         Belltown   \n",
       "1        3RD AVE BETWEEN BROAD ST AND DENNY WAY         Belltown   \n",
       "2       2ND AVE N BETWEEN JOHN ST AND THOMAS ST           Uptown   \n",
       "3           CLAY ST BETWEEN 3RD AVE AND 4TH AVE         Belltown   \n",
       "4          3RD AVE BETWEEN CLAY ST AND BROAD ST         Belltown   \n",
       "5  THOMAS ST BETWEEN TAYLOR AVE N AND 6TH AVE N  Uptown Triangle   \n",
       "6          3RD AVE BETWEEN CLAY ST AND BROAD ST         Belltown   \n",
       "\n",
       "  ParkingCategory  day_of_week  hour_of_day         LON          LAT  \\\n",
       "0    Paid Parking            4           17 -122.349480  47.61806027   \n",
       "1    Paid Parking            4           17 -122.351189  47.61837759   \n",
       "2    Paid Parking            4           17 -122.352936  47.62036489   \n",
       "3    Paid Parking            4           17 -122.349297  47.61799756   \n",
       "4    Paid Parking            4           17 -122.350227  47.61801873   \n",
       "5    Paid Parking            4           17 -122.345642  47.62082637   \n",
       "6    Paid Parking            4           17 -122.350372  47.61790727   \n",
       "\n",
       "   DISTANCE_FEET  MeanOccupancy  \n",
       "0     862.118197       0.353383  \n",
       "1     871.161670       0.428875  \n",
       "2     880.028866       0.415094  \n",
       "3     884.605478       0.474813  \n",
       "4     902.440232       0.201681  \n",
       "5     925.573610       0.464097  \n",
       "6     950.718386       0.283120  "
      ]
     },
     "execution_count": 33,
     "metadata": {},
     "output_type": "execute_result"
    }
   ],
   "source": [
    "%%time\n",
    "day_of_week = 4\n",
    "hour_of_day = 17\n",
    "\n",
    "bc.sql(f'''\n",
    "    SELECT BlockfaceName\n",
    "        , PaidParkingArea\n",
    "        , ParkingCategory\n",
    "        , {day_of_week} AS day_of_week\n",
    "        , {hour_of_day} AS hour_of_day\n",
    "        , LON\n",
    "        , LAT\n",
    "        , DISTANCE_FEET\n",
    "        , B.MeanOccupancy\n",
    "    FROM parking_locations AS A\n",
    "    LEFT OUTER JOIN means AS B\n",
    "        ON A.SourceElementKey = B.SourceElementKey\n",
    "            AND B.dow = {day_of_week}\n",
    "            AND B.o_hour = {hour_of_day}\n",
    "    WHERE DISTANCE_FEET < 1000\n",
    "        AND B.MeanOccupancy <= 0.5\n",
    "    ORDER BY DISTANCE_FEET ASC\n",
    "''')"
   ]
  },
  {
   "cell_type": "markdown",
   "metadata": {},
   "source": [
    "So, the nearest two parking spots are mostly located in Belltown: within 1000ft you can find 6 parking spots with quite a few open parking spots (on average)."
   ]
  }
 ],
 "metadata": {
  "kernelspec": {
   "display_name": "RAPIDS Stable",
   "language": "python",
   "name": "python3"
  },
  "language_info": {
   "codemirror_mode": {
    "name": "ipython",
    "version": 3
   },
   "file_extension": ".py",
   "mimetype": "text/x-python",
   "name": "python",
   "nbconvert_exporter": "python",
   "pygments_lexer": "ipython3",
   "version": "3.8.5"
  }
 },
 "nbformat": 4,
 "nbformat_minor": 4
}
