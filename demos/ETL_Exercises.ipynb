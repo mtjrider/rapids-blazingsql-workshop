{
 "cells": [
  {
   "cell_type": "markdown",
   "metadata": {},
   "source": [
    "# Parking in Seattle\n",
    "\n",
    "Having walked through a notebook showcasing cuDF and Blazing SQL, below we prepared couple of exercises for you to explore."
   ]
  },
  {
   "cell_type": "markdown",
   "metadata": {},
   "source": [
    "# 1. Load the data\n",
    "\n",
    "1. Use either cuDF or Blazing SQL. Transaction and locations paths are defined below."
   ]
  },
  {
   "cell_type": "code",
   "execution_count": 2,
   "metadata": {},
   "outputs": [
    {
     "name": "stdout",
     "output_type": "stream",
     "text": [
      "BlazingContext ready\n"
     ]
    }
   ],
   "source": [
    "from blazingsql import BlazingContext\n",
    "\n",
    "import cudf\n",
    "import pandas as pd\n",
    "import json\n",
    "\n",
    "pd.options.display.max_rows = 100\n",
    "\n",
    "bc = BlazingContext()\n",
    "\n",
    "_ = bc.s3(\n",
    "    'bsql'\n",
    "    , bucket_name = 'bsql'\n",
    ")\n",
    "\n",
    "transactions_partitions_cnt = 40\n",
    "transactions_path = 's3://bsql/data/seattle_parking/parking_MayJun2019.parquet/partition_idx={partition}/'\n",
    "transactions_parq = [transactions_path.format(partition=p) for p in range(transactions_partitions_cnt)]\n",
    "\n",
    "locations_parq = 's3://bsql/data/seattle_parking/parking_locations.parquet/'"
   ]
  },
  {
   "cell_type": "markdown",
   "metadata": {},
   "source": []
  },
  {
   "cell_type": "code",
   "execution_count": null,
   "metadata": {},
   "outputs": [],
   "source": []
  },
  {
   "cell_type": "code",
   "execution_count": null,
   "metadata": {},
   "outputs": [],
   "source": []
  },
  {
   "cell_type": "code",
   "execution_count": null,
   "metadata": {},
   "outputs": [],
   "source": [
    "# 2. Aggregate\n",
    "\n",
    "1. How many parking spots are on different sides of streets?\n",
    "2. Find the distribution of parking time limit. Remember that there are multiple parking spots at each location (`ParkingSpaceCount`)."
   ]
  },
  {
   "cell_type": "markdown",
   "metadata": {},
   "source": []
  },
  {
   "cell_type": "code",
   "execution_count": null,
   "metadata": {},
   "outputs": [],
   "source": []
  },
  {
   "cell_type": "code",
   "execution_count": null,
   "metadata": {},
   "outputs": [],
   "source": []
  },
  {
   "cell_type": "code",
   "execution_count": null,
   "metadata": {},
   "outputs": [],
   "source": [
    "# 3. Visualize\n",
    "\n",
    "Use `matplotlib` or pandas `.plot` to \n",
    "\n",
    "1. Visualize the distribution of parking time limit.\n",
    "2. [HARDER] Visualize the parking occupancy for the `PaidParkingSubArea == \"Waterfront\"` for each hour of the day"
   ]
  }
 ],
 "metadata": {
  "kernelspec": {
   "display_name": "Python 3",
   "language": "python",
   "name": "python3"
  },
  "language_info": {
   "codemirror_mode": {
    "name": "ipython",
    "version": 3
   },
   "file_extension": ".py",
   "mimetype": "text/x-python",
   "name": "python",
   "nbconvert_exporter": "python",
   "pygments_lexer": "ipython3",
   "version": "3.8.5"
  }
 },
 "nbformat": 4,
 "nbformat_minor": 4
}